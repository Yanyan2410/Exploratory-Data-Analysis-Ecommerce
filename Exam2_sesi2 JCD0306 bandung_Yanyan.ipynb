{
 "cells": [
  {
   "cell_type": "code",
   "execution_count": 1,
   "metadata": {},
   "outputs": [],
   "source": [
    "import numpy as np\n",
    "import pandas as pd\n",
    "import matplotlib.pyplot as plt\n",
    "import seaborn as sns"
   ]
  },
  {
   "cell_type": "markdown",
   "metadata": {},
   "source": [
    "### Inserting Raw Data"
   ]
  },
  {
   "cell_type": "code",
   "execution_count": 5,
   "metadata": {},
   "outputs": [],
   "source": [
    "df = pd.read_csv('ecommerce.csv')"
   ]
  },
  {
   "cell_type": "code",
   "execution_count": 6,
   "metadata": {},
   "outputs": [],
   "source": [
    "df = pd.DataFrame(df) # change it into pandas DataFrame"
   ]
  },
  {
   "cell_type": "code",
   "execution_count": 7,
   "metadata": {},
   "outputs": [
    {
     "data": {
      "text/html": [
       "<div>\n",
       "<style scoped>\n",
       "    .dataframe tbody tr th:only-of-type {\n",
       "        vertical-align: middle;\n",
       "    }\n",
       "\n",
       "    .dataframe tbody tr th {\n",
       "        vertical-align: top;\n",
       "    }\n",
       "\n",
       "    .dataframe thead th {\n",
       "        text-align: right;\n",
       "    }\n",
       "</style>\n",
       "<table border=\"1\" class=\"dataframe\">\n",
       "  <thead>\n",
       "    <tr style=\"text-align: right;\">\n",
       "      <th></th>\n",
       "      <th>Unnamed: 0</th>\n",
       "      <th>category</th>\n",
       "      <th>product</th>\n",
       "      <th>Original_price</th>\n",
       "      <th>price</th>\n",
       "      <th>perc_of_unit_sold</th>\n",
       "      <th>rating</th>\n",
       "      <th>shpping_rate</th>\n",
       "      <th>gender</th>\n",
       "    </tr>\n",
       "  </thead>\n",
       "  <tbody>\n",
       "    <tr>\n",
       "      <th>0</th>\n",
       "      <td>0</td>\n",
       "      <td>Athletic Shoes</td>\n",
       "      <td>Nike SB Check Solar Cnvs Skateboarding Shoes f...</td>\n",
       "      <td>299.0</td>\n",
       "      <td>211.48</td>\n",
       "      <td>94.0</td>\n",
       "      <td>100.0</td>\n",
       "      <td>FREE Shipping</td>\n",
       "      <td>men</td>\n",
       "    </tr>\n",
       "    <tr>\n",
       "      <th>1</th>\n",
       "      <td>1</td>\n",
       "      <td>Athletic Shoes</td>\n",
       "      <td>Nike Md Runner 2 Two-Tone Textile-Mesh Suede-A...</td>\n",
       "      <td>349.0</td>\n",
       "      <td>289.99</td>\n",
       "      <td>80.0</td>\n",
       "      <td>88.0</td>\n",
       "      <td>FREE Shipping</td>\n",
       "      <td>men</td>\n",
       "    </tr>\n",
       "    <tr>\n",
       "      <th>2</th>\n",
       "      <td>2</td>\n",
       "      <td>Athletic Shoes</td>\n",
       "      <td>Nike air Heights Sneaker for Women , Size 38 E...</td>\n",
       "      <td>419.0</td>\n",
       "      <td>337.48</td>\n",
       "      <td>77.0</td>\n",
       "      <td>NaN</td>\n",
       "      <td>FREE Shipping</td>\n",
       "      <td>women</td>\n",
       "    </tr>\n",
       "    <tr>\n",
       "      <th>3</th>\n",
       "      <td>3</td>\n",
       "      <td>Athletic Shoes</td>\n",
       "      <td>Nike Fitness Shoes For Men , 43 EU , Black</td>\n",
       "      <td>319.0</td>\n",
       "      <td>211.48</td>\n",
       "      <td>76.0</td>\n",
       "      <td>80.0</td>\n",
       "      <td>FREE Shipping</td>\n",
       "      <td>men</td>\n",
       "    </tr>\n",
       "    <tr>\n",
       "      <th>4</th>\n",
       "      <td>4</td>\n",
       "      <td>Athletic Shoes</td>\n",
       "      <td>adidas ASWEERUN Sneaker for Mens, Grey - Size ...</td>\n",
       "      <td>259.0</td>\n",
       "      <td>194.99</td>\n",
       "      <td>94.0</td>\n",
       "      <td>NaN</td>\n",
       "      <td>Eligible for FREE Shipping</td>\n",
       "      <td>men</td>\n",
       "    </tr>\n",
       "  </tbody>\n",
       "</table>\n",
       "</div>"
      ],
      "text/plain": [
       "   Unnamed: 0        category  \\\n",
       "0           0  Athletic Shoes   \n",
       "1           1  Athletic Shoes   \n",
       "2           2  Athletic Shoes   \n",
       "3           3  Athletic Shoes   \n",
       "4           4  Athletic Shoes   \n",
       "\n",
       "                                             product  Original_price   price  \\\n",
       "0  Nike SB Check Solar Cnvs Skateboarding Shoes f...           299.0  211.48   \n",
       "1  Nike Md Runner 2 Two-Tone Textile-Mesh Suede-A...           349.0  289.99   \n",
       "2  Nike air Heights Sneaker for Women , Size 38 E...           419.0  337.48   \n",
       "3         Nike Fitness Shoes For Men , 43 EU , Black           319.0  211.48   \n",
       "4  adidas ASWEERUN Sneaker for Mens, Grey - Size ...           259.0  194.99   \n",
       "\n",
       "   perc_of_unit_sold  rating                shpping_rate gender  \n",
       "0               94.0   100.0               FREE Shipping    men  \n",
       "1               80.0    88.0               FREE Shipping    men  \n",
       "2               77.0     NaN               FREE Shipping  women  \n",
       "3               76.0    80.0               FREE Shipping    men  \n",
       "4               94.0     NaN  Eligible for FREE Shipping    men  "
      ]
     },
     "execution_count": 7,
     "metadata": {},
     "output_type": "execute_result"
    }
   ],
   "source": [
    "df.head()"
   ]
  },
  {
   "cell_type": "code",
   "execution_count": 8,
   "metadata": {},
   "outputs": [
    {
     "data": {
      "text/html": [
       "<div>\n",
       "<style scoped>\n",
       "    .dataframe tbody tr th:only-of-type {\n",
       "        vertical-align: middle;\n",
       "    }\n",
       "\n",
       "    .dataframe tbody tr th {\n",
       "        vertical-align: top;\n",
       "    }\n",
       "\n",
       "    .dataframe thead th {\n",
       "        text-align: right;\n",
       "    }\n",
       "</style>\n",
       "<table border=\"1\" class=\"dataframe\">\n",
       "  <thead>\n",
       "    <tr style=\"text-align: right;\">\n",
       "      <th></th>\n",
       "      <th>Unnamed: 0</th>\n",
       "      <th>category</th>\n",
       "      <th>product</th>\n",
       "      <th>Original_price</th>\n",
       "      <th>price</th>\n",
       "      <th>perc_of_unit_sold</th>\n",
       "      <th>rating</th>\n",
       "      <th>shpping_rate</th>\n",
       "      <th>gender</th>\n",
       "    </tr>\n",
       "  </thead>\n",
       "  <tbody>\n",
       "    <tr>\n",
       "      <th>604</th>\n",
       "      <td>175</td>\n",
       "      <td>Watches</td>\n",
       "      <td>JBW Delmare Men's 4 Genuine Diamonds Silicone ...</td>\n",
       "      <td>2624.0</td>\n",
       "      <td>575.99</td>\n",
       "      <td>72.0</td>\n",
       "      <td>92.0</td>\n",
       "      <td>FREE Shipping</td>\n",
       "      <td>men</td>\n",
       "    </tr>\n",
       "    <tr>\n",
       "      <th>605</th>\n",
       "      <td>176</td>\n",
       "      <td>Watches</td>\n",
       "      <td>Michael Kors Lexington Women's White Dial Stai...</td>\n",
       "      <td>762.0</td>\n",
       "      <td>564.98</td>\n",
       "      <td>28.0</td>\n",
       "      <td>76.0</td>\n",
       "      <td>FREE Shipping</td>\n",
       "      <td>women</td>\n",
       "    </tr>\n",
       "    <tr>\n",
       "      <th>606</th>\n",
       "      <td>177</td>\n",
       "      <td>Watches</td>\n",
       "      <td>Puma Casual Watch For Men Analog Stainless Ste...</td>\n",
       "      <td>679.0</td>\n",
       "      <td>262.98</td>\n",
       "      <td>67.0</td>\n",
       "      <td>94.0</td>\n",
       "      <td>FREE Shipping</td>\n",
       "      <td>men</td>\n",
       "    </tr>\n",
       "    <tr>\n",
       "      <th>607</th>\n",
       "      <td>178</td>\n",
       "      <td>Watches</td>\n",
       "      <td>T5 Watch For Men [Rubber,Chronograph]-H3397G-B</td>\n",
       "      <td>440.0</td>\n",
       "      <td>115.49</td>\n",
       "      <td>40.0</td>\n",
       "      <td>86.0</td>\n",
       "      <td>Eligible for FREE Shipping</td>\n",
       "      <td>men</td>\n",
       "    </tr>\n",
       "    <tr>\n",
       "      <th>608</th>\n",
       "      <td>179</td>\n",
       "      <td>Watches</td>\n",
       "      <td>Tissot Dress Watch For Women Analog Stainless ...</td>\n",
       "      <td>1740.0</td>\n",
       "      <td>960.49</td>\n",
       "      <td>20.0</td>\n",
       "      <td>NaN</td>\n",
       "      <td>FREE Shipping</td>\n",
       "      <td>women</td>\n",
       "    </tr>\n",
       "  </tbody>\n",
       "</table>\n",
       "</div>"
      ],
      "text/plain": [
       "     Unnamed: 0 category                                            product  \\\n",
       "604         175  Watches  JBW Delmare Men's 4 Genuine Diamonds Silicone ...   \n",
       "605         176  Watches  Michael Kors Lexington Women's White Dial Stai...   \n",
       "606         177  Watches  Puma Casual Watch For Men Analog Stainless Ste...   \n",
       "607         178  Watches     T5 Watch For Men [Rubber,Chronograph]-H3397G-B   \n",
       "608         179  Watches  Tissot Dress Watch For Women Analog Stainless ...   \n",
       "\n",
       "     Original_price   price  perc_of_unit_sold  rating  \\\n",
       "604          2624.0  575.99               72.0    92.0   \n",
       "605           762.0  564.98               28.0    76.0   \n",
       "606           679.0  262.98               67.0    94.0   \n",
       "607           440.0  115.49               40.0    86.0   \n",
       "608          1740.0  960.49               20.0     NaN   \n",
       "\n",
       "                   shpping_rate gender  \n",
       "604               FREE Shipping    men  \n",
       "605               FREE Shipping  women  \n",
       "606               FREE Shipping    men  \n",
       "607  Eligible for FREE Shipping    men  \n",
       "608               FREE Shipping  women  "
      ]
     },
     "execution_count": 8,
     "metadata": {},
     "output_type": "execute_result"
    }
   ],
   "source": [
    "df.tail()"
   ]
  },
  {
   "cell_type": "code",
   "execution_count": 9,
   "metadata": {},
   "outputs": [
    {
     "data": {
      "text/plain": [
       "(609, 9)"
      ]
     },
     "execution_count": 9,
     "metadata": {},
     "output_type": "execute_result"
    }
   ],
   "source": [
    "df.shape"
   ]
  },
  {
   "cell_type": "code",
   "execution_count": 10,
   "metadata": {},
   "outputs": [
    {
     "data": {
      "text/plain": [
       "5481"
      ]
     },
     "execution_count": 10,
     "metadata": {},
     "output_type": "execute_result"
    }
   ],
   "source": [
    "df.size"
   ]
  },
  {
   "cell_type": "markdown",
   "metadata": {},
   "source": [
    "##### Dapat dilihat dari data penjualan ecommerce ini terdapat 9 columns dan 609 row dengan jumlah data 5481"
   ]
  },
  {
   "cell_type": "code",
   "execution_count": 11,
   "metadata": {},
   "outputs": [
    {
     "data": {
      "text/plain": [
       "Unnamed: 0             0\n",
       "category               0\n",
       "product                0\n",
       "Original_price        26\n",
       "price                  0\n",
       "perc_of_unit_sold     87\n",
       "rating               182\n",
       "shpping_rate          42\n",
       "gender                28\n",
       "dtype: int64"
      ]
     },
     "execution_count": 11,
     "metadata": {},
     "output_type": "execute_result"
    }
   ],
   "source": [
    "df.isna().sum()"
   ]
  },
  {
   "cell_type": "code",
   "execution_count": 12,
   "metadata": {},
   "outputs": [
    {
     "data": {
      "text/html": [
       "<div>\n",
       "<style scoped>\n",
       "    .dataframe tbody tr th:only-of-type {\n",
       "        vertical-align: middle;\n",
       "    }\n",
       "\n",
       "    .dataframe tbody tr th {\n",
       "        vertical-align: top;\n",
       "    }\n",
       "\n",
       "    .dataframe thead th {\n",
       "        text-align: right;\n",
       "    }\n",
       "</style>\n",
       "<table border=\"1\" class=\"dataframe\">\n",
       "  <thead>\n",
       "    <tr style=\"text-align: right;\">\n",
       "      <th></th>\n",
       "      <th>Unnamed: 0</th>\n",
       "      <th>category</th>\n",
       "      <th>product</th>\n",
       "      <th>Original_price</th>\n",
       "      <th>price</th>\n",
       "      <th>perc_of_unit_sold</th>\n",
       "      <th>rating</th>\n",
       "      <th>shpping_rate</th>\n",
       "      <th>gender</th>\n",
       "    </tr>\n",
       "  </thead>\n",
       "  <tbody>\n",
       "    <tr>\n",
       "      <th>2</th>\n",
       "      <td>2</td>\n",
       "      <td>Athletic Shoes</td>\n",
       "      <td>Nike air Heights Sneaker for Women , Size 38 E...</td>\n",
       "      <td>419.0</td>\n",
       "      <td>337.48</td>\n",
       "      <td>77.0</td>\n",
       "      <td>NaN</td>\n",
       "      <td>FREE Shipping</td>\n",
       "      <td>women</td>\n",
       "    </tr>\n",
       "    <tr>\n",
       "      <th>4</th>\n",
       "      <td>4</td>\n",
       "      <td>Athletic Shoes</td>\n",
       "      <td>adidas ASWEERUN Sneaker for Mens, Grey - Size ...</td>\n",
       "      <td>259.0</td>\n",
       "      <td>194.99</td>\n",
       "      <td>94.0</td>\n",
       "      <td>NaN</td>\n",
       "      <td>Eligible for FREE Shipping</td>\n",
       "      <td>men</td>\n",
       "    </tr>\n",
       "    <tr>\n",
       "      <th>5</th>\n",
       "      <td>5</td>\n",
       "      <td>Athletic Shoes</td>\n",
       "      <td>Nike Sport Sneaker Shoes for Men , 44 EU , White</td>\n",
       "      <td>319.0</td>\n",
       "      <td>234.99</td>\n",
       "      <td>30.0</td>\n",
       "      <td>NaN</td>\n",
       "      <td>FREE Shipping</td>\n",
       "      <td>men</td>\n",
       "    </tr>\n",
       "    <tr>\n",
       "      <th>7</th>\n",
       "      <td>7</td>\n",
       "      <td>Athletic Shoes</td>\n",
       "      <td>Nike Fitness Shoes For Men , 44.5 EU , Gray</td>\n",
       "      <td>389.0</td>\n",
       "      <td>280.98</td>\n",
       "      <td>71.0</td>\n",
       "      <td>NaN</td>\n",
       "      <td>FREE Shipping</td>\n",
       "      <td>men</td>\n",
       "    </tr>\n",
       "    <tr>\n",
       "      <th>8</th>\n",
       "      <td>8</td>\n",
       "      <td>Athletic Shoes</td>\n",
       "      <td>Nike Air Zoom Pegasus 36 Running Sneakers for ...</td>\n",
       "      <td>609.0</td>\n",
       "      <td>470.99</td>\n",
       "      <td>60.0</td>\n",
       "      <td>NaN</td>\n",
       "      <td>FREE Shipping</td>\n",
       "      <td>men</td>\n",
       "    </tr>\n",
       "    <tr>\n",
       "      <th>...</th>\n",
       "      <td>...</td>\n",
       "      <td>...</td>\n",
       "      <td>...</td>\n",
       "      <td>...</td>\n",
       "      <td>...</td>\n",
       "      <td>...</td>\n",
       "      <td>...</td>\n",
       "      <td>...</td>\n",
       "      <td>...</td>\n",
       "    </tr>\n",
       "    <tr>\n",
       "      <th>572</th>\n",
       "      <td>143</td>\n",
       "      <td>Watches</td>\n",
       "      <td>Olivia Burton Marble Florals Dial Watch for Wo...</td>\n",
       "      <td>805.0</td>\n",
       "      <td>276.49</td>\n",
       "      <td>40.0</td>\n",
       "      <td>NaN</td>\n",
       "      <td>FREE Shipping</td>\n",
       "      <td>women</td>\n",
       "    </tr>\n",
       "    <tr>\n",
       "      <th>574</th>\n",
       "      <td>145</td>\n",
       "      <td>Watches</td>\n",
       "      <td>Lacoste Casual Watch For Women Analog Silicone...</td>\n",
       "      <td>895.0</td>\n",
       "      <td>388.00</td>\n",
       "      <td>40.0</td>\n",
       "      <td>NaN</td>\n",
       "      <td>FREE Shipping</td>\n",
       "      <td>women</td>\n",
       "    </tr>\n",
       "    <tr>\n",
       "      <th>578</th>\n",
       "      <td>149</td>\n",
       "      <td>Watches</td>\n",
       "      <td>Akribos XXIV Men's Classic Bubble Crystal 3 In...</td>\n",
       "      <td>NaN</td>\n",
       "      <td>260.48</td>\n",
       "      <td>93.0</td>\n",
       "      <td>94.0</td>\n",
       "      <td>FREE Shipping</td>\n",
       "      <td>men</td>\n",
       "    </tr>\n",
       "    <tr>\n",
       "      <th>597</th>\n",
       "      <td>168</td>\n",
       "      <td>Watches</td>\n",
       "      <td>Scuderia Ferrari Men's Grey  Dial Color Rubber...</td>\n",
       "      <td>1045.0</td>\n",
       "      <td>543.98</td>\n",
       "      <td>31.0</td>\n",
       "      <td>NaN</td>\n",
       "      <td>FREE Shipping</td>\n",
       "      <td>men</td>\n",
       "    </tr>\n",
       "    <tr>\n",
       "      <th>608</th>\n",
       "      <td>179</td>\n",
       "      <td>Watches</td>\n",
       "      <td>Tissot Dress Watch For Women Analog Stainless ...</td>\n",
       "      <td>1740.0</td>\n",
       "      <td>960.49</td>\n",
       "      <td>20.0</td>\n",
       "      <td>NaN</td>\n",
       "      <td>FREE Shipping</td>\n",
       "      <td>women</td>\n",
       "    </tr>\n",
       "  </tbody>\n",
       "</table>\n",
       "<p>258 rows × 9 columns</p>\n",
       "</div>"
      ],
      "text/plain": [
       "     Unnamed: 0        category  \\\n",
       "2             2  Athletic Shoes   \n",
       "4             4  Athletic Shoes   \n",
       "5             5  Athletic Shoes   \n",
       "7             7  Athletic Shoes   \n",
       "8             8  Athletic Shoes   \n",
       "..          ...             ...   \n",
       "572         143         Watches   \n",
       "574         145         Watches   \n",
       "578         149         Watches   \n",
       "597         168         Watches   \n",
       "608         179         Watches   \n",
       "\n",
       "                                               product  Original_price  \\\n",
       "2    Nike air Heights Sneaker for Women , Size 38 E...           419.0   \n",
       "4    adidas ASWEERUN Sneaker for Mens, Grey - Size ...           259.0   \n",
       "5     Nike Sport Sneaker Shoes for Men , 44 EU , White           319.0   \n",
       "7          Nike Fitness Shoes For Men , 44.5 EU , Gray           389.0   \n",
       "8    Nike Air Zoom Pegasus 36 Running Sneakers for ...           609.0   \n",
       "..                                                 ...             ...   \n",
       "572  Olivia Burton Marble Florals Dial Watch for Wo...           805.0   \n",
       "574  Lacoste Casual Watch For Women Analog Silicone...           895.0   \n",
       "578  Akribos XXIV Men's Classic Bubble Crystal 3 In...             NaN   \n",
       "597  Scuderia Ferrari Men's Grey  Dial Color Rubber...          1045.0   \n",
       "608  Tissot Dress Watch For Women Analog Stainless ...          1740.0   \n",
       "\n",
       "      price  perc_of_unit_sold  rating                shpping_rate gender  \n",
       "2    337.48               77.0     NaN               FREE Shipping  women  \n",
       "4    194.99               94.0     NaN  Eligible for FREE Shipping    men  \n",
       "5    234.99               30.0     NaN               FREE Shipping    men  \n",
       "7    280.98               71.0     NaN               FREE Shipping    men  \n",
       "8    470.99               60.0     NaN               FREE Shipping    men  \n",
       "..      ...                ...     ...                         ...    ...  \n",
       "572  276.49               40.0     NaN               FREE Shipping  women  \n",
       "574  388.00               40.0     NaN               FREE Shipping  women  \n",
       "578  260.48               93.0    94.0               FREE Shipping    men  \n",
       "597  543.98               31.0     NaN               FREE Shipping    men  \n",
       "608  960.49               20.0     NaN               FREE Shipping  women  \n",
       "\n",
       "[258 rows x 9 columns]"
      ]
     },
     "execution_count": 12,
     "metadata": {},
     "output_type": "execute_result"
    }
   ],
   "source": [
    "df1 = df[df.isna().any(axis=1)]\n",
    "df1"
   ]
  },
  {
   "cell_type": "code",
   "execution_count": 14,
   "metadata": {},
   "outputs": [],
   "source": [
    "Original_price_nan = 26\n",
    "perc_of_unit_sold_nan = 87\n",
    "rating_nan = 182\n",
    "shipping_rate_nan = 42\n",
    "gender_nan = 28\n",
    "\n",
    "Original_price_total = 609\n",
    "perc_of_unit_sold_total = 609\n",
    "rating_total = 609\n",
    "shipping_rate_total = 609\n",
    "gender_total = 609"
   ]
  },
  {
   "cell_type": "code",
   "execution_count": 15,
   "metadata": {},
   "outputs": [
    {
     "name": "stdout",
     "output_type": "stream",
     "text": [
      "4.269293924466338\n",
      "14.285714285714285\n",
      "29.88505747126437\n",
      "6.896551724137931\n",
      "4.597701149425287\n"
     ]
    }
   ],
   "source": [
    "Persentase_Original_price = (Original_price_nan / Original_price_total) *100\n",
    "Persentase_perc_of_unit_sold = ( perc_of_unit_sold_nan / perc_of_unit_sold_total) *100\n",
    "Persentase_rating = ( rating_nan / rating_total) *100\n",
    "Persentase_shipping_rate = ( shipping_rate_nan / shipping_rate_total) *100\n",
    "Persentase_gender = ( gender_nan / gender_total) *100\n",
    "\n",
    "print(Persentase_Original_price)\n",
    "print(Persentase_perc_of_unit_sold)\n",
    "print(Persentase_rating)\n",
    "print(Persentase_shipping_rate)\n",
    "print(Persentase_gender)"
   ]
  },
  {
   "cell_type": "markdown",
   "metadata": {},
   "source": [
    "##### _Pengaruh nan value pada 'Original_price' sebesar 4,26% dari keseluruhan data Original_Price_\n",
    "##### _Pengaruh nan value pada 'perc_of_unit_sold' sebesar 14,28% dari keseluruhan data perc_of_unit_sold_\n",
    "##### _Pengaruh nan value pada 'rating' sebesar 29,88% dari keseluruhan data rating_\n",
    "##### _Pengaruh nan value pada 'shipping_rate' sebesar 6,89% dari keseluruhan data shipping_rate_\n",
    "##### _Pengaruh nan value pada 'gender' sebesar 4,59% dari keseluruhan data gender_\n",
    "\n",
    "\n",
    "##### _Karena pengaruh nan value pada total < 50% (threshold jumlah NaN pada data) maka NaN bisa dipilih untuk dihapus atau di fill dengan syarat tertentu_"
   ]
  },
  {
   "cell_type": "code",
   "execution_count": 26,
   "metadata": {},
   "outputs": [],
   "source": [
    "df = df.fillna(df.mean())"
   ]
  },
  {
   "cell_type": "code",
   "execution_count": 27,
   "metadata": {},
   "outputs": [
    {
     "data": {
      "text/html": [
       "<div>\n",
       "<style scoped>\n",
       "    .dataframe tbody tr th:only-of-type {\n",
       "        vertical-align: middle;\n",
       "    }\n",
       "\n",
       "    .dataframe tbody tr th {\n",
       "        vertical-align: top;\n",
       "    }\n",
       "\n",
       "    .dataframe thead th {\n",
       "        text-align: right;\n",
       "    }\n",
       "</style>\n",
       "<table border=\"1\" class=\"dataframe\">\n",
       "  <thead>\n",
       "    <tr style=\"text-align: right;\">\n",
       "      <th></th>\n",
       "      <th>Unnamed: 0</th>\n",
       "      <th>category</th>\n",
       "      <th>product</th>\n",
       "      <th>Original_price</th>\n",
       "      <th>price</th>\n",
       "      <th>perc_of_unit_sold</th>\n",
       "      <th>rating</th>\n",
       "      <th>shpping_rate</th>\n",
       "      <th>gender</th>\n",
       "    </tr>\n",
       "  </thead>\n",
       "  <tbody>\n",
       "    <tr>\n",
       "      <th>0</th>\n",
       "      <td>0</td>\n",
       "      <td>Athletic Shoes</td>\n",
       "      <td>Nike SB Check Solar Cnvs Skateboarding Shoes f...</td>\n",
       "      <td>299.0</td>\n",
       "      <td>211.48</td>\n",
       "      <td>94.0</td>\n",
       "      <td>100.000000</td>\n",
       "      <td>FREE Shipping</td>\n",
       "      <td>men</td>\n",
       "    </tr>\n",
       "    <tr>\n",
       "      <th>1</th>\n",
       "      <td>1</td>\n",
       "      <td>Athletic Shoes</td>\n",
       "      <td>Nike Md Runner 2 Two-Tone Textile-Mesh Suede-A...</td>\n",
       "      <td>349.0</td>\n",
       "      <td>289.99</td>\n",
       "      <td>80.0</td>\n",
       "      <td>88.000000</td>\n",
       "      <td>FREE Shipping</td>\n",
       "      <td>men</td>\n",
       "    </tr>\n",
       "    <tr>\n",
       "      <th>2</th>\n",
       "      <td>2</td>\n",
       "      <td>Athletic Shoes</td>\n",
       "      <td>Nike air Heights Sneaker for Women , Size 38 E...</td>\n",
       "      <td>419.0</td>\n",
       "      <td>337.48</td>\n",
       "      <td>77.0</td>\n",
       "      <td>87.807963</td>\n",
       "      <td>FREE Shipping</td>\n",
       "      <td>women</td>\n",
       "    </tr>\n",
       "    <tr>\n",
       "      <th>3</th>\n",
       "      <td>3</td>\n",
       "      <td>Athletic Shoes</td>\n",
       "      <td>Nike Fitness Shoes For Men , 43 EU , Black</td>\n",
       "      <td>319.0</td>\n",
       "      <td>211.48</td>\n",
       "      <td>76.0</td>\n",
       "      <td>80.000000</td>\n",
       "      <td>FREE Shipping</td>\n",
       "      <td>men</td>\n",
       "    </tr>\n",
       "    <tr>\n",
       "      <th>4</th>\n",
       "      <td>4</td>\n",
       "      <td>Athletic Shoes</td>\n",
       "      <td>adidas ASWEERUN Sneaker for Mens, Grey - Size ...</td>\n",
       "      <td>259.0</td>\n",
       "      <td>194.99</td>\n",
       "      <td>94.0</td>\n",
       "      <td>87.807963</td>\n",
       "      <td>Eligible for FREE Shipping</td>\n",
       "      <td>men</td>\n",
       "    </tr>\n",
       "    <tr>\n",
       "      <th>...</th>\n",
       "      <td>...</td>\n",
       "      <td>...</td>\n",
       "      <td>...</td>\n",
       "      <td>...</td>\n",
       "      <td>...</td>\n",
       "      <td>...</td>\n",
       "      <td>...</td>\n",
       "      <td>...</td>\n",
       "      <td>...</td>\n",
       "    </tr>\n",
       "    <tr>\n",
       "      <th>604</th>\n",
       "      <td>175</td>\n",
       "      <td>Watches</td>\n",
       "      <td>JBW Delmare Men's 4 Genuine Diamonds Silicone ...</td>\n",
       "      <td>2624.0</td>\n",
       "      <td>575.99</td>\n",
       "      <td>72.0</td>\n",
       "      <td>92.000000</td>\n",
       "      <td>FREE Shipping</td>\n",
       "      <td>men</td>\n",
       "    </tr>\n",
       "    <tr>\n",
       "      <th>605</th>\n",
       "      <td>176</td>\n",
       "      <td>Watches</td>\n",
       "      <td>Michael Kors Lexington Women's White Dial Stai...</td>\n",
       "      <td>762.0</td>\n",
       "      <td>564.98</td>\n",
       "      <td>28.0</td>\n",
       "      <td>76.000000</td>\n",
       "      <td>FREE Shipping</td>\n",
       "      <td>women</td>\n",
       "    </tr>\n",
       "    <tr>\n",
       "      <th>606</th>\n",
       "      <td>177</td>\n",
       "      <td>Watches</td>\n",
       "      <td>Puma Casual Watch For Men Analog Stainless Ste...</td>\n",
       "      <td>679.0</td>\n",
       "      <td>262.98</td>\n",
       "      <td>67.0</td>\n",
       "      <td>94.000000</td>\n",
       "      <td>FREE Shipping</td>\n",
       "      <td>men</td>\n",
       "    </tr>\n",
       "    <tr>\n",
       "      <th>607</th>\n",
       "      <td>178</td>\n",
       "      <td>Watches</td>\n",
       "      <td>T5 Watch For Men [Rubber,Chronograph]-H3397G-B</td>\n",
       "      <td>440.0</td>\n",
       "      <td>115.49</td>\n",
       "      <td>40.0</td>\n",
       "      <td>86.000000</td>\n",
       "      <td>Eligible for FREE Shipping</td>\n",
       "      <td>men</td>\n",
       "    </tr>\n",
       "    <tr>\n",
       "      <th>608</th>\n",
       "      <td>179</td>\n",
       "      <td>Watches</td>\n",
       "      <td>Tissot Dress Watch For Women Analog Stainless ...</td>\n",
       "      <td>1740.0</td>\n",
       "      <td>960.49</td>\n",
       "      <td>20.0</td>\n",
       "      <td>87.807963</td>\n",
       "      <td>FREE Shipping</td>\n",
       "      <td>women</td>\n",
       "    </tr>\n",
       "  </tbody>\n",
       "</table>\n",
       "<p>609 rows × 9 columns</p>\n",
       "</div>"
      ],
      "text/plain": [
       "     Unnamed: 0        category  \\\n",
       "0             0  Athletic Shoes   \n",
       "1             1  Athletic Shoes   \n",
       "2             2  Athletic Shoes   \n",
       "3             3  Athletic Shoes   \n",
       "4             4  Athletic Shoes   \n",
       "..          ...             ...   \n",
       "604         175         Watches   \n",
       "605         176         Watches   \n",
       "606         177         Watches   \n",
       "607         178         Watches   \n",
       "608         179         Watches   \n",
       "\n",
       "                                               product  Original_price  \\\n",
       "0    Nike SB Check Solar Cnvs Skateboarding Shoes f...           299.0   \n",
       "1    Nike Md Runner 2 Two-Tone Textile-Mesh Suede-A...           349.0   \n",
       "2    Nike air Heights Sneaker for Women , Size 38 E...           419.0   \n",
       "3           Nike Fitness Shoes For Men , 43 EU , Black           319.0   \n",
       "4    adidas ASWEERUN Sneaker for Mens, Grey - Size ...           259.0   \n",
       "..                                                 ...             ...   \n",
       "604  JBW Delmare Men's 4 Genuine Diamonds Silicone ...          2624.0   \n",
       "605  Michael Kors Lexington Women's White Dial Stai...           762.0   \n",
       "606  Puma Casual Watch For Men Analog Stainless Ste...           679.0   \n",
       "607     T5 Watch For Men [Rubber,Chronograph]-H3397G-B           440.0   \n",
       "608  Tissot Dress Watch For Women Analog Stainless ...          1740.0   \n",
       "\n",
       "      price  perc_of_unit_sold      rating                shpping_rate gender  \n",
       "0    211.48               94.0  100.000000               FREE Shipping    men  \n",
       "1    289.99               80.0   88.000000               FREE Shipping    men  \n",
       "2    337.48               77.0   87.807963               FREE Shipping  women  \n",
       "3    211.48               76.0   80.000000               FREE Shipping    men  \n",
       "4    194.99               94.0   87.807963  Eligible for FREE Shipping    men  \n",
       "..      ...                ...         ...                         ...    ...  \n",
       "604  575.99               72.0   92.000000               FREE Shipping    men  \n",
       "605  564.98               28.0   76.000000               FREE Shipping  women  \n",
       "606  262.98               67.0   94.000000               FREE Shipping    men  \n",
       "607  115.49               40.0   86.000000  Eligible for FREE Shipping    men  \n",
       "608  960.49               20.0   87.807963               FREE Shipping  women  \n",
       "\n",
       "[609 rows x 9 columns]"
      ]
     },
     "execution_count": 27,
     "metadata": {},
     "output_type": "execute_result"
    }
   ],
   "source": [
    "df"
   ]
  },
  {
   "cell_type": "code",
   "execution_count": 28,
   "metadata": {},
   "outputs": [
    {
     "data": {
      "text/plain": [
       "Unnamed: 0            0\n",
       "category              0\n",
       "product               0\n",
       "Original_price        0\n",
       "price                 0\n",
       "perc_of_unit_sold     0\n",
       "rating                0\n",
       "shpping_rate         42\n",
       "gender               28\n",
       "dtype: int64"
      ]
     },
     "execution_count": 28,
     "metadata": {},
     "output_type": "execute_result"
    }
   ],
   "source": [
    "df.isna().sum()"
   ]
  },
  {
   "cell_type": "markdown",
   "metadata": {},
   "source": [
    "setelah mengisi missing value dengan metode fillna() sekarang missing value sudah diisi dengan memasukan nilai mean tetapo gender dan shipping rate masih menyisakan missing value"
   ]
  },
  {
   "cell_type": "markdown",
   "metadata": {},
   "source": [
    "### Identifikasi Masalah"
   ]
  },
  {
   "cell_type": "markdown",
   "metadata": {},
   "source": [
    "1. Faktor apa yang membuat item pria menjadi lebih sering dibeli dibanding item wanita?\n",
    "2. Mengapa item pria memiliki harga yang lebih tinggi dibandingkan item wanita?"
   ]
  },
  {
   "cell_type": "code",
   "execution_count": 95,
   "metadata": {},
   "outputs": [
    {
     "data": {
      "text/html": [
       "<div>\n",
       "<style scoped>\n",
       "    .dataframe tbody tr th:only-of-type {\n",
       "        vertical-align: middle;\n",
       "    }\n",
       "\n",
       "    .dataframe tbody tr th {\n",
       "        vertical-align: top;\n",
       "    }\n",
       "\n",
       "    .dataframe thead th {\n",
       "        text-align: right;\n",
       "    }\n",
       "</style>\n",
       "<table border=\"1\" class=\"dataframe\">\n",
       "  <thead>\n",
       "    <tr style=\"text-align: right;\">\n",
       "      <th></th>\n",
       "      <th>Unnamed: 0</th>\n",
       "      <th>Original_price</th>\n",
       "      <th>price</th>\n",
       "      <th>perc_of_unit_sold</th>\n",
       "      <th>rating</th>\n",
       "    </tr>\n",
       "  </thead>\n",
       "  <tbody>\n",
       "    <tr>\n",
       "      <th>count</th>\n",
       "      <td>609.000000</td>\n",
       "      <td>609.000000</td>\n",
       "      <td>609.000000</td>\n",
       "      <td>609.000000</td>\n",
       "      <td>609.000000</td>\n",
       "    </tr>\n",
       "    <tr>\n",
       "      <th>mean</th>\n",
       "      <td>60.072250</td>\n",
       "      <td>864.498113</td>\n",
       "      <td>339.434039</td>\n",
       "      <td>57.678161</td>\n",
       "      <td>87.807963</td>\n",
       "    </tr>\n",
       "    <tr>\n",
       "      <th>std</th>\n",
       "      <td>47.287663</td>\n",
       "      <td>1764.385443</td>\n",
       "      <td>285.416406</td>\n",
       "      <td>23.544957</td>\n",
       "      <td>9.561113</td>\n",
       "    </tr>\n",
       "    <tr>\n",
       "      <th>min</th>\n",
       "      <td>0.000000</td>\n",
       "      <td>42.000000</td>\n",
       "      <td>21.400000</td>\n",
       "      <td>2.000000</td>\n",
       "      <td>20.000000</td>\n",
       "    </tr>\n",
       "    <tr>\n",
       "      <th>25%</th>\n",
       "      <td>21.000000</td>\n",
       "      <td>279.000000</td>\n",
       "      <td>140.980000</td>\n",
       "      <td>42.000000</td>\n",
       "      <td>86.000000</td>\n",
       "    </tr>\n",
       "    <tr>\n",
       "      <th>50%</th>\n",
       "      <td>46.000000</td>\n",
       "      <td>529.000000</td>\n",
       "      <td>262.490000</td>\n",
       "      <td>57.678161</td>\n",
       "      <td>87.807963</td>\n",
       "    </tr>\n",
       "    <tr>\n",
       "      <th>75%</th>\n",
       "      <td>92.000000</td>\n",
       "      <td>950.000000</td>\n",
       "      <td>444.990000</td>\n",
       "      <td>75.000000</td>\n",
       "      <td>92.000000</td>\n",
       "    </tr>\n",
       "    <tr>\n",
       "      <th>max</th>\n",
       "      <td>179.000000</td>\n",
       "      <td>29970.000000</td>\n",
       "      <td>3220.000000</td>\n",
       "      <td>99.000000</td>\n",
       "      <td>100.000000</td>\n",
       "    </tr>\n",
       "  </tbody>\n",
       "</table>\n",
       "</div>"
      ],
      "text/plain": [
       "       Unnamed: 0  Original_price        price  perc_of_unit_sold      rating\n",
       "count  609.000000      609.000000   609.000000         609.000000  609.000000\n",
       "mean    60.072250      864.498113   339.434039          57.678161   87.807963\n",
       "std     47.287663     1764.385443   285.416406          23.544957    9.561113\n",
       "min      0.000000       42.000000    21.400000           2.000000   20.000000\n",
       "25%     21.000000      279.000000   140.980000          42.000000   86.000000\n",
       "50%     46.000000      529.000000   262.490000          57.678161   87.807963\n",
       "75%     92.000000      950.000000   444.990000          75.000000   92.000000\n",
       "max    179.000000    29970.000000  3220.000000          99.000000  100.000000"
      ]
     },
     "execution_count": 95,
     "metadata": {},
     "output_type": "execute_result"
    }
   ],
   "source": [
    "df.describe()"
   ]
  },
  {
   "cell_type": "code",
   "execution_count": 30,
   "metadata": {},
   "outputs": [
    {
     "data": {
      "text/html": [
       "<div>\n",
       "<style scoped>\n",
       "    .dataframe tbody tr th:only-of-type {\n",
       "        vertical-align: middle;\n",
       "    }\n",
       "\n",
       "    .dataframe tbody tr th {\n",
       "        vertical-align: top;\n",
       "    }\n",
       "\n",
       "    .dataframe thead th {\n",
       "        text-align: right;\n",
       "    }\n",
       "</style>\n",
       "<table border=\"1\" class=\"dataframe\">\n",
       "  <thead>\n",
       "    <tr style=\"text-align: right;\">\n",
       "      <th></th>\n",
       "      <th>Unnamed: 0</th>\n",
       "      <th>Original_price</th>\n",
       "      <th>price</th>\n",
       "      <th>perc_of_unit_sold</th>\n",
       "      <th>rating</th>\n",
       "    </tr>\n",
       "  </thead>\n",
       "  <tbody>\n",
       "    <tr>\n",
       "      <th>Unnamed: 0</th>\n",
       "      <td>1.000000</td>\n",
       "      <td>0.167197</td>\n",
       "      <td>0.290474</td>\n",
       "      <td>-0.086655</td>\n",
       "      <td>-0.091673</td>\n",
       "    </tr>\n",
       "    <tr>\n",
       "      <th>Original_price</th>\n",
       "      <td>0.167197</td>\n",
       "      <td>1.000000</td>\n",
       "      <td>0.695587</td>\n",
       "      <td>0.039147</td>\n",
       "      <td>-0.105960</td>\n",
       "    </tr>\n",
       "    <tr>\n",
       "      <th>price</th>\n",
       "      <td>0.290474</td>\n",
       "      <td>0.695587</td>\n",
       "      <td>1.000000</td>\n",
       "      <td>-0.122124</td>\n",
       "      <td>-0.027018</td>\n",
       "    </tr>\n",
       "    <tr>\n",
       "      <th>perc_of_unit_sold</th>\n",
       "      <td>-0.086655</td>\n",
       "      <td>0.039147</td>\n",
       "      <td>-0.122124</td>\n",
       "      <td>1.000000</td>\n",
       "      <td>0.094944</td>\n",
       "    </tr>\n",
       "    <tr>\n",
       "      <th>rating</th>\n",
       "      <td>-0.091673</td>\n",
       "      <td>-0.105960</td>\n",
       "      <td>-0.027018</td>\n",
       "      <td>0.094944</td>\n",
       "      <td>1.000000</td>\n",
       "    </tr>\n",
       "  </tbody>\n",
       "</table>\n",
       "</div>"
      ],
      "text/plain": [
       "                   Unnamed: 0  Original_price     price  perc_of_unit_sold  \\\n",
       "Unnamed: 0           1.000000        0.167197  0.290474          -0.086655   \n",
       "Original_price       0.167197        1.000000  0.695587           0.039147   \n",
       "price                0.290474        0.695587  1.000000          -0.122124   \n",
       "perc_of_unit_sold   -0.086655        0.039147 -0.122124           1.000000   \n",
       "rating              -0.091673       -0.105960 -0.027018           0.094944   \n",
       "\n",
       "                     rating  \n",
       "Unnamed: 0        -0.091673  \n",
       "Original_price    -0.105960  \n",
       "price             -0.027018  \n",
       "perc_of_unit_sold  0.094944  \n",
       "rating             1.000000  "
      ]
     },
     "execution_count": 30,
     "metadata": {},
     "output_type": "execute_result"
    }
   ],
   "source": [
    "df.corr()"
   ]
  },
  {
   "cell_type": "code",
   "execution_count": 92,
   "metadata": {},
   "outputs": [
    {
     "data": {
      "text/plain": [
       "(3.0, 0.0)"
      ]
     },
     "execution_count": 92,
     "metadata": {},
     "output_type": "execute_result"
    },
    {
     "data": {
      "image/png": "[encoded data removed]",
      "text/plain": [
       "<Figure size 432x288 with 2 Axes>"
      ]
     },
     "metadata": {
      "needs_background": "light"
     },
     "output_type": "display_data"
    }
   ],
   "source": [
    "korelasi = sns.heatmap(df.corr(),cmap='magma',annot=True,linecolor='white',linewidths=1)\n",
    "korelasi.set_ylim(3,0)"
   ]
  },
  {
   "cell_type": "code",
   "execution_count": 33,
   "metadata": {},
   "outputs": [
    {
     "data": {
      "text/plain": [
       "array(['Athletic Shoes', 'Casual & Dress Shoes', 'Eyewear',\n",
       "       'Perfumes & Fragrances', 'Sportswear', 'Wallets', 'Watches'],\n",
       "      dtype=object)"
      ]
     },
     "execution_count": 33,
     "metadata": {},
     "output_type": "execute_result"
    }
   ],
   "source": [
    "df['category'].unique()"
   ]
  },
  {
   "cell_type": "code",
   "execution_count": 36,
   "metadata": {},
   "outputs": [],
   "source": [
    "kategori = df['category'].value_counts()[::-1]"
   ]
  },
  {
   "cell_type": "code",
   "execution_count": 37,
   "metadata": {},
   "outputs": [
    {
     "data": {
      "text/plain": [
       "Sportswear                33\n",
       "Wallets                   37\n",
       "Casual & Dress Shoes      47\n",
       "Perfumes & Fragrances     63\n",
       "Athletic Shoes            95\n",
       "Eyewear                  154\n",
       "Watches                  180\n",
       "Name: category, dtype: int64"
      ]
     },
     "execution_count": 37,
     "metadata": {},
     "output_type": "execute_result"
    }
   ],
   "source": [
    "kategori"
   ]
  },
  {
   "cell_type": "code",
   "execution_count": 48,
   "metadata": {},
   "outputs": [
    {
     "ename": "IndexError",
     "evalue": "index out of bounds",
     "output_type": "error",
     "traceback": [
      "\u001b[1;31m---------------------------------------------------------------------------\u001b[0m",
      "\u001b[1;31mKeyError\u001b[0m                                  Traceback (most recent call last)",
      "\u001b[1;32m~\\AppData\\Local\\Programs\\Python\\Python38\\lib\\site-packages\\pandas\\core\\indexes\\base.py\u001b[0m in \u001b[0;36mget_value\u001b[1;34m(self, series, key)\u001b[0m\n\u001b[0;32m   4404\u001b[0m         \u001b[1;32mtry\u001b[0m\u001b[1;33m:\u001b[0m\u001b[1;33m\u001b[0m\u001b[1;33m\u001b[0m\u001b[0m\n\u001b[1;32m-> 4405\u001b[1;33m             \u001b[1;32mreturn\u001b[0m \u001b[0mself\u001b[0m\u001b[1;33m.\u001b[0m\u001b[0m_engine\u001b[0m\u001b[1;33m.\u001b[0m\u001b[0mget_value\u001b[0m\u001b[1;33m(\u001b[0m\u001b[0ms\u001b[0m\u001b[1;33m,\u001b[0m \u001b[0mk\u001b[0m\u001b[1;33m,\u001b[0m \u001b[0mtz\u001b[0m\u001b[1;33m=\u001b[0m\u001b[0mgetattr\u001b[0m\u001b[1;33m(\u001b[0m\u001b[0mseries\u001b[0m\u001b[1;33m.\u001b[0m\u001b[0mdtype\u001b[0m\u001b[1;33m,\u001b[0m \u001b[1;34m\"tz\"\u001b[0m\u001b[1;33m,\u001b[0m \u001b[1;32mNone\u001b[0m\u001b[1;33m)\u001b[0m\u001b[1;33m)\u001b[0m\u001b[1;33m\u001b[0m\u001b[1;33m\u001b[0m\u001b[0m\n\u001b[0m\u001b[0;32m   4406\u001b[0m         \u001b[1;32mexcept\u001b[0m \u001b[0mKeyError\u001b[0m \u001b[1;32mas\u001b[0m \u001b[0me1\u001b[0m\u001b[1;33m:\u001b[0m\u001b[1;33m\u001b[0m\u001b[1;33m\u001b[0m\u001b[0m\n",
      "\u001b[1;32mpandas\\_libs\\index.pyx\u001b[0m in \u001b[0;36mpandas._libs.index.IndexEngine.get_value\u001b[1;34m()\u001b[0m\n",
      "\u001b[1;32mpandas\\_libs\\index.pyx\u001b[0m in \u001b[0;36mpandas._libs.index.IndexEngine.get_value\u001b[1;34m()\u001b[0m\n",
      "\u001b[1;32mpandas\\_libs\\index.pyx\u001b[0m in \u001b[0;36mpandas._libs.index.IndexEngine.get_loc\u001b[1;34m()\u001b[0m\n",
      "\u001b[1;32mpandas\\_libs\\hashtable_class_helper.pxi\u001b[0m in \u001b[0;36mpandas._libs.hashtable.PyObjectHashTable.get_item\u001b[1;34m()\u001b[0m\n",
      "\u001b[1;32mpandas\\_libs\\hashtable_class_helper.pxi\u001b[0m in \u001b[0;36mpandas._libs.hashtable.PyObjectHashTable.get_item\u001b[1;34m()\u001b[0m\n",
      "\u001b[1;31mKeyError\u001b[0m: 7",
      "\nDuring handling of the above exception, another exception occurred:\n",
      "\u001b[1;31mIndexError\u001b[0m                                Traceback (most recent call last)",
      "\u001b[1;32m<ipython-input-48-aa34e2e26883>\u001b[0m in \u001b[0;36m<module>\u001b[1;34m\u001b[0m\n\u001b[0;32m      3\u001b[0m \u001b[0mplt\u001b[0m\u001b[1;33m.\u001b[0m\u001b[0mxlabel\u001b[0m\u001b[1;33m(\u001b[0m\u001b[1;34m'Product Sales'\u001b[0m\u001b[1;33m)\u001b[0m\u001b[1;33m\u001b[0m\u001b[1;33m\u001b[0m\u001b[0m\n\u001b[0;32m      4\u001b[0m \u001b[1;32mfor\u001b[0m \u001b[0mi\u001b[0m \u001b[1;32min\u001b[0m \u001b[0mrange\u001b[0m\u001b[1;33m(\u001b[0m\u001b[1;36m0\u001b[0m\u001b[1;33m,\u001b[0m\u001b[1;36m12\u001b[0m\u001b[1;33m)\u001b[0m\u001b[1;33m:\u001b[0m\u001b[1;33m\u001b[0m\u001b[1;33m\u001b[0m\u001b[0m\n\u001b[1;32m----> 5\u001b[1;33m     \u001b[0mplt\u001b[0m\u001b[1;33m.\u001b[0m\u001b[0mtext\u001b[0m\u001b[1;33m(\u001b[0m\u001b[1;36m5\u001b[0m\u001b[1;33m,\u001b[0m\u001b[0mi\u001b[0m\u001b[1;33m-\u001b[0m\u001b[1;36m0.2\u001b[0m\u001b[1;33m,\u001b[0m\u001b[0mgenre\u001b[0m\u001b[1;33m[\u001b[0m\u001b[0mi\u001b[0m\u001b[1;33m]\u001b[0m\u001b[1;33m,\u001b[0m\u001b[0mfontweight\u001b[0m\u001b[1;33m=\u001b[0m\u001b[1;34m'bold'\u001b[0m\u001b[1;33m)\u001b[0m\u001b[1;33m\u001b[0m\u001b[1;33m\u001b[0m\u001b[0m\n\u001b[0m\u001b[0;32m      6\u001b[0m \u001b[0mplt\u001b[0m\u001b[1;33m.\u001b[0m\u001b[0mlegend\u001b[0m\u001b[1;33m(\u001b[0m\u001b[1;33m[\u001b[0m\u001b[1;34m'Quantity of Product'\u001b[0m\u001b[1;33m]\u001b[0m\u001b[1;33m)\u001b[0m\u001b[1;33m\u001b[0m\u001b[1;33m\u001b[0m\u001b[0m\n\u001b[0;32m      7\u001b[0m \u001b[0mplt\u001b[0m\u001b[1;33m.\u001b[0m\u001b[0mshow\u001b[0m\u001b[1;33m(\u001b[0m\u001b[1;33m)\u001b[0m\u001b[1;33m\u001b[0m\u001b[1;33m\u001b[0m\u001b[0m\n",
      "\u001b[1;32m~\\AppData\\Local\\Programs\\Python\\Python38\\lib\\site-packages\\pandas\\core\\series.py\u001b[0m in \u001b[0;36m__getitem__\u001b[1;34m(self, key)\u001b[0m\n\u001b[0;32m    869\u001b[0m         \u001b[0mkey\u001b[0m \u001b[1;33m=\u001b[0m \u001b[0mcom\u001b[0m\u001b[1;33m.\u001b[0m\u001b[0mapply_if_callable\u001b[0m\u001b[1;33m(\u001b[0m\u001b[0mkey\u001b[0m\u001b[1;33m,\u001b[0m \u001b[0mself\u001b[0m\u001b[1;33m)\u001b[0m\u001b[1;33m\u001b[0m\u001b[1;33m\u001b[0m\u001b[0m\n\u001b[0;32m    870\u001b[0m         \u001b[1;32mtry\u001b[0m\u001b[1;33m:\u001b[0m\u001b[1;33m\u001b[0m\u001b[1;33m\u001b[0m\u001b[0m\n\u001b[1;32m--> 871\u001b[1;33m             \u001b[0mresult\u001b[0m \u001b[1;33m=\u001b[0m \u001b[0mself\u001b[0m\u001b[1;33m.\u001b[0m\u001b[0mindex\u001b[0m\u001b[1;33m.\u001b[0m\u001b[0mget_value\u001b[0m\u001b[1;33m(\u001b[0m\u001b[0mself\u001b[0m\u001b[1;33m,\u001b[0m \u001b[0mkey\u001b[0m\u001b[1;33m)\u001b[0m\u001b[1;33m\u001b[0m\u001b[1;33m\u001b[0m\u001b[0m\n\u001b[0m\u001b[0;32m    872\u001b[0m \u001b[1;33m\u001b[0m\u001b[0m\n\u001b[0;32m    873\u001b[0m             \u001b[1;32mif\u001b[0m \u001b[1;32mnot\u001b[0m \u001b[0mis_scalar\u001b[0m\u001b[1;33m(\u001b[0m\u001b[0mresult\u001b[0m\u001b[1;33m)\u001b[0m\u001b[1;33m:\u001b[0m\u001b[1;33m\u001b[0m\u001b[1;33m\u001b[0m\u001b[0m\n",
      "\u001b[1;32m~\\AppData\\Local\\Programs\\Python\\Python38\\lib\\site-packages\\pandas\\core\\indexes\\base.py\u001b[0m in \u001b[0;36mget_value\u001b[1;34m(self, series, key)\u001b[0m\n\u001b[0;32m   4409\u001b[0m \u001b[1;33m\u001b[0m\u001b[0m\n\u001b[0;32m   4410\u001b[0m             \u001b[1;32mtry\u001b[0m\u001b[1;33m:\u001b[0m\u001b[1;33m\u001b[0m\u001b[1;33m\u001b[0m\u001b[0m\n\u001b[1;32m-> 4411\u001b[1;33m                 \u001b[1;32mreturn\u001b[0m \u001b[0mlibindex\u001b[0m\u001b[1;33m.\u001b[0m\u001b[0mget_value_at\u001b[0m\u001b[1;33m(\u001b[0m\u001b[0ms\u001b[0m\u001b[1;33m,\u001b[0m \u001b[0mkey\u001b[0m\u001b[1;33m)\u001b[0m\u001b[1;33m\u001b[0m\u001b[1;33m\u001b[0m\u001b[0m\n\u001b[0m\u001b[0;32m   4412\u001b[0m             \u001b[1;32mexcept\u001b[0m \u001b[0mIndexError\u001b[0m\u001b[1;33m:\u001b[0m\u001b[1;33m\u001b[0m\u001b[1;33m\u001b[0m\u001b[0m\n\u001b[0;32m   4413\u001b[0m                 \u001b[1;32mraise\u001b[0m\u001b[1;33m\u001b[0m\u001b[1;33m\u001b[0m\u001b[0m\n",
      "\u001b[1;32mpandas\\_libs\\index.pyx\u001b[0m in \u001b[0;36mpandas._libs.index.get_value_at\u001b[1;34m()\u001b[0m\n",
      "\u001b[1;32mpandas\\_libs\\index.pyx\u001b[0m in \u001b[0;36mpandas._libs.index.get_value_at\u001b[1;34m()\u001b[0m\n",
      "\u001b[1;32mpandas\\_libs\\util.pxd\u001b[0m in \u001b[0;36mpandas._libs.util.get_value_at\u001b[1;34m()\u001b[0m\n",
      "\u001b[1;32mpandas\\_libs\\util.pxd\u001b[0m in \u001b[0;36mpandas._libs.util.validate_indexer\u001b[1;34m()\u001b[0m\n",
      "\u001b[1;31mIndexError\u001b[0m: index out of bounds"
     ]
    },
    {
     "data": {
      "image/png": "[encoded data removed]",
      "text/plain": [
       "<Figure size 720x360 with 1 Axes>"
      ]
     },
     "metadata": {
      "needs_background": "light"
     },
     "output_type": "display_data"
    }
   ],
   "source": [
    "df['category'].value_counts()[::-1].plot(kind='barh',figsize=(10,5),color='#FF33FF',edgecolor='k')\n",
    "plt.title('category product',size = 20)\n",
    "plt.xlabel('Product Sales')\n",
    "for i in range(0,12):\n",
    "    plt.text(5,i-0.2,genre[i],fontweight='bold')\n",
    "plt.legend(['Quantity of Product'])\n",
    "plt.show()"
   ]
  },
  {
   "cell_type": "code",
   "execution_count": 49,
   "metadata": {},
   "outputs": [
    {
     "data": {
      "text/plain": [
       "602"
      ]
     },
     "execution_count": 49,
     "metadata": {},
     "output_type": "execute_result"
    }
   ],
   "source": [
    "len(df['product'].unique())"
   ]
  },
  {
   "cell_type": "code",
   "execution_count": 51,
   "metadata": {},
   "outputs": [],
   "source": [
    "product = df['product'].value_counts().head(10)[::-1]"
   ]
  },
  {
   "cell_type": "code",
   "execution_count": 57,
   "metadata": {},
   "outputs": [
    {
     "data": {
      "image/png": "[encoded data removed]",
      "text/plain": [
       "<Figure size 720x360 with 1 Axes>"
      ]
     },
     "metadata": {
      "needs_background": "light"
     },
     "output_type": "display_data"
    }
   ],
   "source": [
    "df['product'].value_counts().head(10)[::-1].plot(kind='barh',figsize=(10,5),color='g',edgecolor='black')\n",
    "plt.title('Top 10 Product',size = 20)\n",
    "plt.xlabel('Quantity of Product')\n",
    "for i in range(0,10):\n",
    "    plt.text(20,i-0.2,product[i],fontweight='bold')\n",
    "plt.legend(['Quantity of Product'])\n",
    "plt.show()\n",
    "# Top 10 publisher with the most game published"
   ]
  },
  {
   "cell_type": "code",
   "execution_count": 68,
   "metadata": {},
   "outputs": [],
   "source": [
    "price = df['price'].value_counts().head(10)[::-1]"
   ]
  },
  {
   "cell_type": "code",
   "execution_count": 73,
   "metadata": {},
   "outputs": [
    {
     "data": {
      "text/plain": [
       "Unisex     88\n",
       "women     155\n",
       "men       338\n",
       "Name: gender, dtype: int64"
      ]
     },
     "execution_count": 73,
     "metadata": {},
     "output_type": "execute_result"
    }
   ],
   "source": [
    "gender = df['gender'].value_counts().head(10)[::-1]\n",
    "gender"
   ]
  },
  {
   "cell_type": "code",
   "execution_count": 91,
   "metadata": {},
   "outputs": [
    {
     "data": {
      "image/png": "[encoded data removed]",
      "text/plain": [
       "<Figure size 864x504 with 1 Axes>"
      ]
     },
     "metadata": {},
     "output_type": "display_data"
    }
   ],
   "source": [
    "persentase = [58.2, 26.7, 15.1]\n",
    "gender = ['Male','Female', 'Unisex']\n",
    "\n",
    "fig1, ax1 = plt.subplots(figsize=(12,7))\n",
    "ax1.pie(df['gender'].value_counts(),autopct='%1.1f%%',explode = (.07,.05,.09), \n",
    "        shadow=True, startangle=90)\n",
    "\n",
    "ax1.axis('equal')  \n",
    "plt.tight_layout()\n",
    "plt.legend(['gender'])\n",
    "plt.show()"
   ]
  },
  {
   "cell_type": "markdown",
   "metadata": {},
   "source": [
    "#### Analysis"
   ]
  },
  {
   "cell_type": "markdown",
   "metadata": {},
   "source": [
    "Ecommerce ini menjual beberapa kategori Sportswear 33 jenis, Wallets 37 jenis, Casual & Dress Shoes 47 jenis, Perfumes & Fragrances 63 jenis, atlectic shoes 95 jenis, Eyewear 154 jenis, watches 180 jenis. Product yang paling sering di beli ada product pria hal ini dapat dilihat dari tabel di atas pria memiliki persentase sebesar 58,2% untuk membeli item yang khusus dipakai hanya untuk pria, sedangkan wanita memiliki persentase sebesar 26.7% berbelanja di ecommerce dengan membeli barang khusus penggunaan wanita, sedangkan item yang sifatnya unisex memiliki persentase 15,1% untuk di beli pria atau wanita, dari data top 10 product bisa kita lihat barang yang paling sering dibeli yaitu casual shoe pria dan diikuti oleh pembelian kacamata, hal ini dapat menjelaskan bahwa pria memiliki keinginan belanja yang lebih kuat ketika pria sedang menginginkan suatu barang, harga tidak menjadi sebuah masalah ketika pria ingin membeli sebuah barang, faktor free shipping dan discount harga menjadi faktor pendukung agar calon pembeli menjadi lebih yakin ketika ingin berbelanja di ecommerce.\n"
   ]
  },
  {
   "cell_type": "markdown",
   "metadata": {},
   "source": [
    "#### Saran"
   ]
  },
  {
   "cell_type": "markdown",
   "metadata": {},
   "source": [
    "1. Perbanyak item yang disukai oleh wanita agar penjualan menajadi merata secara gender\n",
    "2. Gunakan diskon yang lebih menarik untuk item wanita karena wanita dalam membeli item price sensitive"
   ]
  },
  {
   "cell_type": "code",
   "execution_count": null,
   "metadata": {},
   "outputs": [],
   "source": []
  }
 ],
 "metadata": {
  "kernelspec": {
   "display_name": "Python 3.8.3 64-bit",
   "language": "python",
   "name": "python38364bit7720c5d46d63437fbe06f418eb0652a2"
  },
  "language_info": {
   "codemirror_mode": {
    "name": "ipython",
    "version": 3
   },
   "file_extension": ".py",
   "mimetype": "text/x-python",
   "name": "python",
   "nbconvert_exporter": "python",
   "pygments_lexer": "ipython3",
   "version": "3.8.3"
  }
 },
 "nbformat": 4,
 "nbformat_minor": 4
}
